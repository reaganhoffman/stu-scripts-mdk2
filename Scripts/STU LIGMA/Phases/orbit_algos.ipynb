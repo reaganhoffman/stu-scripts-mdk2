{
 "cells": [
  {
   "cell_type": "code",
   "execution_count": 1,
   "metadata": {},
   "outputs": [],
   "source": [
    "import math\n",
    "import string\n",
    "import numpy as np"
   ]
  },
  {
   "cell_type": "code",
   "execution_count": 2,
   "metadata": {},
   "outputs": [],
   "source": [
    "def printPoints(vectors):\n",
    "    formatted_vectors = []\n",
    "    for vector in vectors:\n",
    "        formatted_vector = []\n",
    "        for value in vector:\n",
    "            if value == int(value):\n",
    "                formatted_vector.append(f\"{int(value)}\")\n",
    "            else:\n",
    "                formatted_vector.append(f\"{value:.2f}\")\n",
    "        formatted_vectors.append(f\"({', '.join(formatted_vector)})\")\n",
    "\n",
    "    alphabet = list(string.ascii_lowercase)\n",
    "    print('Copy and paste the following directly into Desmos:')\n",
    "    for char, vector in zip(alphabet, formatted_vectors):\n",
    "      print(f'O_{char} = {vector}')"
   ]
  },
  {
   "cell_type": "code",
   "execution_count": 3,
   "metadata": {},
   "outputs": [],
   "source": [
    "def generate_points_on_plane(center, radius, point_a, point_b, num_points):\n",
    "    \"\"\"\n",
    "    Generates a list of orbital waypoints that are centered about the planet's center AND lie on\n",
    "    the plane of the great circle connecting the planet center, point_a and point_b\n",
    "    \"\"\"\n",
    "    a = 1 * radius\n",
    "\n",
    "    # Convert points to numpy arrays\n",
    "    center = np.array(center)\n",
    "    point_a = np.array(point_a)\n",
    "    point_b = np.array(point_b)\n",
    "\n",
    "    # Calculate vectors CA and CB\n",
    "    vec_ca = point_a - center\n",
    "    vec_cb = point_b - center\n",
    "\n",
    "    # Normal vector of the plane (cross product of CA and CB)\n",
    "    normal = np.cross(vec_ca, vec_cb)\n",
    "\n",
    "    # Find one basis vector on the plane (we just use CA as basis so that first orbital point is directly above launch)\n",
    "    u = vec_ca / np.linalg.norm(vec_ca)  # Normalize\n",
    "\n",
    "    # Find another basis vector on the plane (cross product of normal and U)\n",
    "    v = np.cross(normal, u)\n",
    "    v = v / np.linalg.norm(v)  # Normalize\n",
    "\n",
    "    # Circle's radius\n",
    "    orbit_radius = radius + a\n",
    "\n",
    "    # Generate points on the circle\n",
    "    points = []\n",
    "\n",
    "    for i in range(num_points):\n",
    "        theta = 2 * np.pi * i / num_points\n",
    "        if theta == 0:\n",
    "            # First point directly above launch site should be slightly lower\n",
    "            point = center + orbit_radius * 0.8 * (np.cos(theta) * u + np.sin(theta) * v)\n",
    "        else:\n",
    "            point = center + orbit_radius * (np.cos(theta) * u + np.sin(theta) * v)\n",
    "\n",
    "        # EXPERIMENTAL: As we get closer to the target, reduce altitude of orbital point, creating parabola-like descent\n",
    "        # descent_start_factor = 1.4\n",
    "        # normalizing_factor = 1 / (descent_start_factor - 1)\n",
    "        # d = np.linalg.norm(point - point_b)\n",
    "        # if d <= a * descent_start_factor:\n",
    "        #     a_d = d - a\n",
    "        #     a_d_normal = a_d / a\n",
    "        #     scaling_factor = 1.5 * radius + a * (normalizing_factor * a_d_normal)  # Adjust this formula as needed\n",
    "        #     point = center + scaling_factor * (np.cos(theta) * u + np.sin(theta) * v)\n",
    "\n",
    "        points.append(point)\n",
    "\n",
    "    return np.array(points)\n"
   ]
  },
  {
   "cell_type": "code",
   "execution_count": 4,
   "metadata": {},
   "outputs": [],
   "source": [
    "def createPointOnSphere(center, radius, theta, phi):\n",
    "  h, k, l = center[0], center[1], center[2]\n",
    "  x_1 = h + radius * math.sin(theta) * math.cos(phi)\n",
    "  y_1 = k + radius * math.sin(theta) * math.sin(phi)\n",
    "  z_1 = l + radius * math.cos(theta)\n",
    "  return (x_1, y_1, z_1)"
   ]
  },
  {
   "cell_type": "code",
   "execution_count": 36,
   "metadata": {},
   "outputs": [
    {
     "name": "stdout",
     "output_type": "stream",
     "text": [
      "Copy and paste the following directly into Desmos:\n",
      "O_a = (8.24, -1, -4.40)\n",
      "O_b = (9.76, 1.59, -5.07)\n",
      "O_c = (8.87, 4.00, -4.61)\n",
      "O_d = (7.45, 6.07, -3.90)\n",
      "O_e = (5.59, 7.66, -3.00)\n",
      "O_f = (3.41, 8.66, -1.96)\n",
      "O_g = (1.07, 9.00, -0.85)\n",
      "O_h = (-1.27, 8.66, 0.25)\n",
      "O_i = (-3.46, 7.66, 1.26)\n",
      "O_j = (-5.35, 6.07, 2.11)\n",
      "O_k = (-6.80, 4.00, 2.76)\n",
      "O_l = (-7.72, 1.59, 3.15)\n",
      "O_m = (-8.05, -1.00, 3.25)\n",
      "O_n = (-7.76, -3.59, 3.07)\n",
      "O_o = (-6.87, -6.00, 2.61)\n",
      "O_p = (-5.45, -8.07, 1.90)\n",
      "O_q = (-3.59, -9.66, 1.00)\n",
      "O_r = (-1.41, -10.66, -0.04)\n",
      "O_s = (0.93, -11.00, -1.15)\n",
      "O_t = (3.27, -10.66, -2.25)\n",
      "O_u = (5.46, -9.66, -3.26)\n",
      "O_v = (7.35, -8.07, -4.11)\n",
      "O_w = (8.80, -6.00, -4.76)\n",
      "O_x = (9.72, -3.59, -5.15)\n",
      "(-9.299698413286645, 5.1962636812792065, 3.9520227167694637)\n"
     ]
    }
   ],
   "source": [
    "center = (1, -1, -1)  # Center of the sphere\n",
    "radius = 5  # Radius of the sphere\n",
    "point_a = createPointOnSphere(center, radius, 2.01, 0)\n",
    "point_b = createPointOnSphere(center, radius + 8, 1.18, 2.6)\n",
    "num_points = 24  # Number of points to generate\n",
    "\n",
    "# Generate the points\n",
    "points_on_plane = generate_points_on_plane(center, radius, point_a, point_b, num_points)\n",
    "printPoints(points_on_plane)\n",
    "print(point_b)"
   ]
  },
  {
   "cell_type": "code",
   "execution_count": 37,
   "metadata": {},
   "outputs": [
    {
     "ename": "",
     "evalue": "",
     "output_type": "error",
     "traceback": [
      "\u001b[1;31mThe Kernel crashed while executing code in the the current cell or a previous cell. Please review the code in the cell(s) to identify a possible cause of the failure. Click <a href='https://aka.ms/vscodeJupyterKernelCrash'>here</a> for more info. View Jupyter <a href='command:jupyter.viewOutput'>log</a> for further details."
     ]
    }
   ],
   "source": [
    "def pointIsEqualToEither(point, target_one, target_two):\n",
    "  return np.array_equal(point, target_one) or np.array_equal(point, target_two)"
   ]
  },
  {
   "cell_type": "code",
   "execution_count": 28,
   "metadata": {},
   "outputs": [],
   "source": [
    "def findShortestPath(path_a, path_b, target_one, target_two):\n",
    "  for ind in range(0, len(path_a)):\n",
    "    if pointIsEqualToEither(path_a[ind], target_one, target_two):\n",
    "      return path_a[:ind + 1]\n",
    "    if pointIsEqualToEither(path_b[ind], target_one, target_two):\n",
    "      return path_b[:ind + 1]"
   ]
  },
  {
   "cell_type": "code",
   "execution_count": 29,
   "metadata": {},
   "outputs": [],
   "source": [
    "# point_b should be the target point\n",
    "def findShortestFlightPath(target_point, points_on_plane):\n",
    "  # Get each point's distance from the target point and store as a tuple (point, distanceFromTarget)\n",
    "  orbital_point_distances_from_target = []\n",
    "  for point in points_on_plane:\n",
    "    orbital_point_distances_from_target.append((point, np.linalg.norm(target_point - point)))\n",
    "\n",
    "  # Sort keys from shortest distance to the target point to the furthest distance\n",
    "  sorted_distances = sorted(orbital_point_distances_from_target, key=lambda x: x[1])\n",
    "\n",
    "  # the points themselves\n",
    "  closest_point_to_target = sorted_distances[0][0]\n",
    "  second_closest_point_to_target = sorted_distances[1][0]\n",
    "  third_closest_point_to_target = sorted_distances[2][0]\n",
    "\n",
    "  # the points' distances from the target\n",
    "  second_closest_point_distance = sorted_distances[1][1]\n",
    "  third_closest_point_distance = sorted_distances[2][1]\n",
    "\n",
    "  path_a = points_on_plane\n",
    "  # create another list of points where the first point is the same but all others are reversed\n",
    "  path_b = points_on_plane[:1] + points_on_plane[-1:0:-1]\n",
    "\n",
    "  # Edge case: target point is almost directly below an orbital point, meaning the second and third closest points are equidistant from the target point\n",
    "  if abs(second_closest_point_distance - third_closest_point_distance) < 1e-6:\n",
    "    return findShortestPath(path_a, path_b, second_closest_point_to_target, third_closest_point_to_target)\n",
    "\n",
    "  return findShortestPath(path_a, path_b, closest_point_to_target, second_closest_point_to_target)"
   ]
  },
  {
   "cell_type": "code",
   "execution_count": 34,
   "metadata": {},
   "outputs": [],
   "source": [
    "def findEarlyBreakoffOrbit(orbit, target_point):\n",
    "  if len(orbit) <= 2:\n",
    "      return orbit\n",
    "\n",
    "  # Temporarily put the launch coordinates into the orbit list\n",
    "  orbit = np.insert(orbit, 0, point_a, axis=0)\n",
    "\n",
    "  angles = np.zeros(len(orbit))\n",
    "\n",
    "  for i in range(len(orbit) - 1):\n",
    "      currentPoint = orbit[i]\n",
    "      nextPoint = orbit[i + 1]\n",
    "      angles[i] = findAngleBetween(currentPoint, nextPoint, target_point)\n",
    "\n",
    "  # Find the index of the angle closest to pi\n",
    "  min_difference = np.abs(angles - np.pi)\n",
    "  optimalExitPointIndex = np.argmin(min_difference) + 1\n",
    "\n",
    "  # Start from the second index to effectively remove the launch coordinates from the orbit list\n",
    "  # Add one to optimalExitPointIndex to ensure we are inclusive of the optimal exit point\n",
    "  return orbit[1:optimalExitPointIndex + 1]\n",
    "\n",
    "def findAngleBetween(currentPoint, nextPoint, targetPoint):\n",
    "  NC = currentPoint - nextPoint\n",
    "  NT = targetPoint - nextPoint\n",
    "  dotProduct = np.dot(NC, NT)\n",
    "  magnitudes = np.linalg.norm(NC) * np.linalg.norm(NT)\n",
    "  angle = math.acos(dotProduct / magnitudes)\n",
    "  return angle"
   ]
  },
  {
   "cell_type": "code",
   "execution_count": 35,
   "metadata": {},
   "outputs": [
    {
     "name": "stdout",
     "output_type": "stream",
     "text": [
      "Copy and paste the following directly into Desmos:\n",
      "O_a = (8.24, -1, -4.40)\n",
      "O_b = (9.76, 1.59, -5.07)\n",
      "O_c = (8.87, 4.00, -4.61)\n",
      "O_d = (7.45, 6.07, -3.90)\n",
      "O_e = (5.59, 7.66, -3.00)\n",
      "O_f = (3.41, 8.66, -1.96)\n",
      "O_g = (1.07, 9.00, -0.85)\n",
      "O_h = (-1.27, 8.66, 0.25)\n"
     ]
    }
   ],
   "source": [
    "printPoints(findEarlyBreakoffOrbit(findShortestFlightPath(point_b, points_on_plane), point_b))"
   ]
  },
  {
   "cell_type": "code",
   "execution_count": null,
   "metadata": {},
   "outputs": [],
   "source": []
  }
 ],
 "metadata": {
  "kernelspec": {
   "display_name": "Python 3",
   "language": "python",
   "name": "python3"
  },
  "language_info": {
   "codemirror_mode": {
    "name": "ipython",
    "version": 3
   },
   "file_extension": ".py",
   "mimetype": "text/x-python",
   "name": "python",
   "nbconvert_exporter": "python",
   "pygments_lexer": "ipython3",
   "version": "3.10.11"
  }
 },
 "nbformat": 4,
 "nbformat_minor": 2
}
